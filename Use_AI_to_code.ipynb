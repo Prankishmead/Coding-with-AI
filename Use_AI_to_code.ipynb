{
  "nbformat": 4,
  "nbformat_minor": 0,
  "metadata": {
    "colab": {
      "provenance": [],
      "authorship_tag": "ABX9TyOYwB5UkrFitwiPFN3RArEP",
      "include_colab_link": true
    },
    "kernelspec": {
      "name": "python3",
      "display_name": "Python 3"
    },
    "language_info": {
      "name": "python"
    }
  },
  "cells": [
    {
      "cell_type": "markdown",
      "metadata": {
        "id": "view-in-github",
        "colab_type": "text"
      },
      "source": [
        "<a href=\"https://colab.research.google.com/github/Prankishmead/Coding-with-AI/blob/main/Use_AI_to_code.ipynb\" target=\"_parent\"><img src=\"https://colab.research.google.com/assets/colab-badge.svg\" alt=\"Open In Colab\"/></a>"
      ]
    },
    {
      "cell_type": "code",
      "source": [
        "from sympy import symbols, diff\n",
        "\n",
        "# Define the variable and the expression\n",
        "x = symbols('x')\n",
        "expression = 42 * x**5\n",
        "\n",
        "# Find the derivative\n",
        "derivative = diff(expression, x)\n",
        "\n",
        "# Print the result\n",
        "print(f\"The derivative of 42x^5 with respect to x is: {derivative}\")\n"
      ],
      "metadata": {
        "colab": {
          "base_uri": "https://localhost:8080/"
        },
        "id": "fnCtF8NSO_-q",
        "outputId": "cf9eaf57-0e92-42f3-e675-162d163011d9"
      },
      "execution_count": 4,
      "outputs": [
        {
          "output_type": "stream",
          "name": "stdout",
          "text": [
            "The derivative of 42x^5 with respect to x is: 210*x**4\n"
          ]
        }
      ]
    },
    {
      "cell_type": "code",
      "source": [
        "from sympy import symbols, diff\n",
        "\n",
        "# Define the variable and the expression\n",
        "x = symbols('x')\n",
        "expression = 3 * x**2 + 2 * x + 1\n",
        "\n",
        "# Find the derivative\n",
        "derivative = diff(expression, x)\n",
        "\n",
        "# Print the result\n",
        "print(f\"The derivative of the expression with respect to x is: {derivative}\")\n"
      ],
      "metadata": {
        "colab": {
          "base_uri": "https://localhost:8080/"
        },
        "id": "ubbz0x-RPbhZ",
        "outputId": "f2345352-7ec9-4235-c1e5-ede06333d976"
      },
      "execution_count": 5,
      "outputs": [
        {
          "output_type": "stream",
          "name": "stdout",
          "text": [
            "The derivative of the expression with respect to x is: 6*x + 2\n"
          ]
        }
      ]
    },
    {
      "cell_type": "code",
      "source": [
        "from sympy import symbols, diff\n",
        "\n",
        "def find_derivative(expression, variable):\n",
        "    try:\n",
        "        x = symbols(variable)\n",
        "        derivative = diff(expression, x)\n",
        "        return derivative\n",
        "    except Exception as e:\n",
        "        return f\"Error: {e}\"\n",
        "\n",
        "# Example usage:\n",
        "expression = \"3 * x**2 + 2 * x + 1\"\n",
        "variable = \"x\"\n",
        "result = find_derivative(expression, variable)\n",
        "print(f\"The derivative of the expression with respect to x is: {result}\")\n"
      ],
      "metadata": {
        "colab": {
          "base_uri": "https://localhost:8080/"
        },
        "id": "WoHg3_VoP2Ar",
        "outputId": "8dafd14f-0a15-4091-89ee-49d864accc9e"
      },
      "execution_count": 6,
      "outputs": [
        {
          "output_type": "stream",
          "name": "stdout",
          "text": [
            "The derivative of the expression with respect to x is: 6*x + 2\n"
          ]
        }
      ]
    }
  ]
}